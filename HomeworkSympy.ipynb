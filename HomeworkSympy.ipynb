{
 "cells": [
  {
   "cell_type": "code",
   "execution_count": 1,
   "id": "d5938e02",
   "metadata": {},
   "outputs": [
    {
     "name": "stdout",
     "output_type": "stream",
     "text": [
      "1/2\n"
     ]
    }
   ],
   "source": [
    "import sympy as sym\n",
    "a = sym.Rational(1, 2)\n",
    "print(a)"
   ]
  },
  {
   "cell_type": "code",
   "execution_count": 2,
   "id": "444ec78a",
   "metadata": {},
   "outputs": [
    {
     "name": "stdout",
     "output_type": "stream",
     "text": [
      "1/4\n"
     ]
    }
   ],
   "source": [
    "a = sym.Rational(1, 2)\n",
    "print(a**2)"
   ]
  },
  {
   "cell_type": "code",
   "execution_count": 3,
   "id": "49f0e285",
   "metadata": {},
   "outputs": [
    {
     "name": "stdout",
     "output_type": "stream",
     "text": [
      "pi**2\n"
     ]
    }
   ],
   "source": [
    "print(sym.pi**2)"
   ]
  },
  {
   "cell_type": "code",
   "execution_count": 4,
   "id": "b2a8973e",
   "metadata": {},
   "outputs": [
    {
     "data": {
      "text/latex": [
       "$\\displaystyle \\pi^{2}$"
      ],
      "text/plain": [
       "pi**2"
      ]
     },
     "execution_count": 4,
     "metadata": {},
     "output_type": "execute_result"
    }
   ],
   "source": [
    "sym.pi**2"
   ]
  },
  {
   "cell_type": "code",
   "execution_count": 5,
   "id": "9bc53f5d",
   "metadata": {},
   "outputs": [
    {
     "data": {
      "text/latex": [
       "$\\displaystyle 3.14159265358979$"
      ],
      "text/plain": [
       "3.14159265358979"
      ]
     },
     "execution_count": 5,
     "metadata": {},
     "output_type": "execute_result"
    }
   ],
   "source": [
    "sym.pi.evalf()"
   ]
  },
  {
   "cell_type": "code",
   "execution_count": 6,
   "id": "b39bb56e",
   "metadata": {},
   "outputs": [
    {
     "data": {
      "text/latex": [
       "$\\displaystyle 5.85987448204884$"
      ],
      "text/plain": [
       "5.85987448204884"
      ]
     },
     "execution_count": 6,
     "metadata": {},
     "output_type": "execute_result"
    }
   ],
   "source": [
    "(sym.pi + sym.exp(1)).evalf()"
   ]
  },
  {
   "cell_type": "code",
   "execution_count": null,
   "id": "124d9164",
   "metadata": {},
   "outputs": [],
   "source": [
    "sym.oo > 99999999"
   ]
  },
  {
   "cell_type": "code",
   "execution_count": null,
   "id": "7ca09f8e",
   "metadata": {},
   "outputs": [],
   "source": [
    "sym.oo + 1"
   ]
  },
  {
   "cell_type": "code",
   "execution_count": null,
   "id": "ace04d0e",
   "metadata": {},
   "outputs": [],
   "source": [
    "a = sym.sqrt(2)\n",
    "print(a)"
   ]
  },
  {
   "cell_type": "code",
   "execution_count": null,
   "id": "44c57612",
   "metadata": {},
   "outputs": [],
   "source": [
    "sym.sqrt(2)"
   ]
  },
  {
   "cell_type": "code",
   "execution_count": null,
   "id": "6ad06048",
   "metadata": {},
   "outputs": [],
   "source": [
    "(sym.sqrt(2)).evalf(100)"
   ]
  },
  {
   "cell_type": "code",
   "execution_count": null,
   "id": "f3ecb9eb",
   "metadata": {},
   "outputs": [],
   "source": [
    "a = sym.Rational(1, 2)\n",
    "b = sym.Rational(1, 3)\n",
    "print(a + b)"
   ]
  },
  {
   "cell_type": "code",
   "execution_count": null,
   "id": "ca53a728",
   "metadata": {},
   "outputs": [],
   "source": [
    "x = sym.Symbol( 'x' )\n",
    "y = sym.Symbol( 'y' )"
   ]
  },
  {
   "cell_type": "code",
   "execution_count": null,
   "id": "178f0b0b",
   "metadata": {},
   "outputs": [],
   "source": [
    "x+y+x-y"
   ]
  },
  {
   "cell_type": "code",
   "execution_count": null,
   "id": "a07718f7",
   "metadata": {},
   "outputs": [],
   "source": [
    "(x+y)**2"
   ]
  },
  {
   "cell_type": "code",
   "execution_count": null,
   "id": "736e04c1",
   "metadata": {},
   "outputs": [],
   "source": [
    "sym.init_printing(use_unicoda=False, wrap_line=True)"
   ]
  },
  {
   "cell_type": "code",
   "execution_count": null,
   "id": "0c7e1496",
   "metadata": {},
   "outputs": [],
   "source": [
    "sym.expand((x + y) ** 3)"
   ]
  },
  {
   "cell_type": "code",
   "execution_count": null,
   "id": "9557d687",
   "metadata": {},
   "outputs": [],
   "source": [
    "sym.expand(x+y, complex=True)"
   ]
  },
  {
   "cell_type": "code",
   "execution_count": null,
   "id": "acff48d8",
   "metadata": {},
   "outputs": [],
   "source": [
    "sym.expand(sym.cos(x+y), trig=True)"
   ]
  },
  {
   "cell_type": "code",
   "execution_count": null,
   "id": "35e6daa5",
   "metadata": {},
   "outputs": [],
   "source": [
    "sym.simplify((x + x*y)/x)"
   ]
  },
  {
   "cell_type": "code",
   "execution_count": null,
   "id": "33386a9a",
   "metadata": {},
   "outputs": [],
   "source": [
    "sym.expand((x + y)**6)"
   ]
  },
  {
   "cell_type": "code",
   "execution_count": null,
   "id": "c7fe67cf",
   "metadata": {},
   "outputs": [],
   "source": [
    "sym.simplify(sym.sin(x)/sym.cos(x))"
   ]
  },
  {
   "cell_type": "code",
   "execution_count": null,
   "id": "95e42998",
   "metadata": {},
   "outputs": [],
   "source": [
    "sym.limit(sym.sin(x)/ x, x, 0)"
   ]
  },
  {
   "cell_type": "code",
   "execution_count": null,
   "id": "a3adfcc0",
   "metadata": {},
   "outputs": [],
   "source": [
    "sym.diff(sym.sin(x), x)"
   ]
  },
  {
   "cell_type": "code",
   "execution_count": null,
   "id": "8f65835b",
   "metadata": {},
   "outputs": [],
   "source": [
    "sym.diff(sym.sin(2*x), x, 1)"
   ]
  },
  {
   "cell_type": "code",
   "execution_count": null,
   "id": "d2768d3f",
   "metadata": {},
   "outputs": [],
   "source": [
    "sym.diff(sym.sin(2*x), x, 2)"
   ]
  },
  {
   "cell_type": "markdown",
   "id": "e7afc566",
   "metadata": {},
   "source": [
    "sym.series(sym.cos(x), x)"
   ]
  },
  {
   "cell_type": "code",
   "execution_count": null,
   "id": "fd407822",
   "metadata": {},
   "outputs": [],
   "source": [
    "sym.series(sym.cos(x), x)"
   ]
  },
  {
   "cell_type": "code",
   "execution_count": null,
   "id": "a02d8618",
   "metadata": {},
   "outputs": [],
   "source": [
    "sym.limit(sym.sin(x)/ x, x, 0)"
   ]
  },
  {
   "cell_type": "code",
   "execution_count": null,
   "id": "bf91293a",
   "metadata": {},
   "outputs": [],
   "source": [
    "sym.diff(sym.log(x), x, 1)"
   ]
  },
  {
   "cell_type": "code",
   "execution_count": null,
   "id": "b3006982",
   "metadata": {},
   "outputs": [],
   "source": [
    "sym.integrate(6*x**5, x)"
   ]
  },
  {
   "cell_type": "code",
   "execution_count": null,
   "id": "699f7a8b",
   "metadata": {},
   "outputs": [],
   "source": [
    "sym.solveset(x**4-1, x)"
   ]
  },
  {
   "cell_type": "code",
   "execution_count": null,
   "id": "a349cf2b",
   "metadata": {},
   "outputs": [],
   "source": [
    "# Остановилась на 17.3.4"
   ]
  }
 ],
 "metadata": {
  "kernelspec": {
   "display_name": "Python 3",
   "language": "python",
   "name": "python3"
  },
  "language_info": {
   "codemirror_mode": {
    "name": "ipython",
    "version": 3
   },
   "file_extension": ".py",
   "mimetype": "text/x-python",
   "name": "python",
   "nbconvert_exporter": "python",
   "pygments_lexer": "ipython3",
   "version": "3.8.8"
  }
 },
 "nbformat": 4,
 "nbformat_minor": 5
}
